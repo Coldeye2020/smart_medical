{
 "cells": [
  {
   "cell_type": "code",
   "execution_count": 1,
   "metadata": {},
   "outputs": [],
   "source": [
    "import nibabel as nib\n",
    "import numpy as np\n",
    "from glob import glob\n",
    "import os\n",
    "import imageio\n",
    "import warnings\n",
    "from tqdm import tqdm\n",
    "from Code.utils.format_conversion import binary2edge"
   ]
  },
  {
   "cell_type": "code",
   "execution_count": 2,
   "metadata": {},
   "outputs": [],
   "source": [
    "img_dir = \"Dataset/tr_im.nii.gz\"\n",
    "mask_dir = \"Dataset/tr_mask.nii.gz\"\n",
    "img = nib.load(img_dir)\n",
    "mask = nib.load(mask_dir)\n",
    "img_fdata = img.get_fdata()\n",
    "mask_fdata = mask.get_fdata()\n",
    "\n",
    "# 生成包含0-100的随机index tensor\n",
    "index = np.random.randint(0, 100, size=(1, 100)).squeeze()\n",
    "index_train = index[0:67]\n",
    "index_test = index[67:100]\n",
    "train_mask = mask_fdata[:, :, index_train]\n",
    "train_img = img_fdata[:, :, index_train]\n",
    "test_mask = mask_fdata[:, :, index_test]\n",
    "test_img = img_fdata[:, :, index_test]\n",
    "\n",
    "(_,_,z) = train_img.shape\n",
    "for j in range(z):   #是z的图象序列\n",
    "    slice = img_fdata[:, :, j] \n",
    "    # 裁剪\n",
    "    # slice = slice[100:400, 200:430]\n",
    "    # 筛选出肺部清晰的图片\n",
    "    # if np.mean(slice) > -500 and np.mean(slice) < -250:\n",
    "    # 将 slice 的数据范围映射到 [0, 255]\n",
    "    slice = np.interp(slice, (slice.min(), slice.max()), (0, 255))\n",
    "    # 转换为 uint8 类型\n",
    "    slice = slice.astype(np.uint8)\n",
    "    imageio.imwrite(\"Dataset/TrainingSet/LungInfection-Train/Doctor-label/Imgs/\"+'{}.jpg'.format(index_train[j]), slice)\n",
    "\n",
    "(_,_,z) = test_img.shape\n",
    "for j in range(z):   #是z的图象序列\n",
    "    slice = img_fdata[:, :, j] \n",
    "    slice = np.interp(slice, (slice.min(), slice.max()), (0, 255))\n",
    "    slice = slice.astype(np.uint8)\n",
    "    imageio.imwrite(\"Dataset/TestingSet/LungInfection-Test/Imgs/\"+'{}.jpg'.format(index_test[j]), slice)\n",
    "\n",
    "(_,_,z) = train_mask.shape\n",
    "for j in range(z):   #是z的图象序列\n",
    "    slice = mask_fdata[:, :, j] \n",
    "    slice = np.interp(slice, (slice.min(), slice.max()), (0, 255))\n",
    "    # mask统一为0和255\n",
    "    slice[slice > 20] = 255\n",
    "    slice = slice.astype(np.uint8)\n",
    "    imageio.imwrite(\"Dataset/TrainingSet/LungInfection-Train/Doctor-label/GT/\"+'{}.png'.format(index_train[j]), slice)\n",
    "\n",
    "(_,_,z) = test_mask.shape\n",
    "for j in range(z):   #是z的图象序列\n",
    "    slice = mask_fdata[:, :, j]\n",
    "    slice = np.interp(slice, (slice.min(), slice.max()), (0, 255))\n",
    "    slice[slice > 20] = 255\n",
    "    slice = slice.astype(np.uint8)\n",
    "    imageio.imwrite(\"Dataset/TestingSet/LungInfection-Test/GT/\"+'{}_mask.png'.format(index_test[j]), slice)\n",
    "\n",
    "for i in glob(\"Dataset/TrainingSet/LungInfection-Train/Doctor-label/GT/*.png\"):\n",
    "    edge = binary2edge(i)\n",
    "    imageio.imwrite(\"Dataset/TrainingSet/LungInfection-Train/Doctor-label/Edge/\" + i.split(\"/\")[-1], edge)\n",
    "\n",
    "# for i in glob(\"Dataset/TestingSet/LungInfection-Test/GT/*.png\"):\n",
    "#     edge = binary2edge(i)\n",
    "#     imageio.imwrite(\"Dataset/TestingSet/LungInfection-Test/Edge/\" + i.split(\"/\")[-1], edge)"
   ]
  },
  {
   "cell_type": "code",
   "execution_count": 3,
   "metadata": {},
   "outputs": [
    {
     "ename": "FileNotFoundError",
     "evalue": "The directory '/data/cyl/code/smart_medical/Dataset/TestingSet/LungInfection-Test/Edge' does not exist",
     "output_type": "error",
     "traceback": [
      "\u001b[0;31m---------------------------------------------------------------------------\u001b[0m",
      "\u001b[0;31mFileNotFoundError\u001b[0m                         Traceback (most recent call last)",
      "Cell \u001b[0;32mIn[3], line 44\u001b[0m\n\u001b[1;32m     42\u001b[0m \u001b[39mfor\u001b[39;00m i \u001b[39min\u001b[39;00m glob(\u001b[39m\"\u001b[39m\u001b[39mDataset/TestingSet/LungInfection-Test/GT/*.png\u001b[39m\u001b[39m\"\u001b[39m):\n\u001b[1;32m     43\u001b[0m     edge \u001b[39m=\u001b[39m binary2edge(i)\n\u001b[0;32m---> 44\u001b[0m     imageio\u001b[39m.\u001b[39;49mimwrite(\u001b[39m\"\u001b[39;49m\u001b[39mDataset/TestingSet/LungInfection-Test/Edge/\u001b[39;49m\u001b[39m\"\u001b[39;49m \u001b[39m+\u001b[39;49m i\u001b[39m.\u001b[39;49msplit(\u001b[39m\"\u001b[39;49m\u001b[39m/\u001b[39;49m\u001b[39m\"\u001b[39;49m)[\u001b[39m-\u001b[39;49m\u001b[39m1\u001b[39;49m], edge)\n",
      "File \u001b[0;32m~/anaconda3/envs/medical/lib/python3.9/site-packages/imageio/v2.py:396\u001b[0m, in \u001b[0;36mimwrite\u001b[0;34m(uri, im, format, **kwargs)\u001b[0m\n\u001b[1;32m    394\u001b[0m imopen_args \u001b[39m=\u001b[39m decypher_format_arg(\u001b[39mformat\u001b[39m)\n\u001b[1;32m    395\u001b[0m imopen_args[\u001b[39m\"\u001b[39m\u001b[39mlegacy_mode\u001b[39m\u001b[39m\"\u001b[39m] \u001b[39m=\u001b[39m \u001b[39mTrue\u001b[39;00m\n\u001b[0;32m--> 396\u001b[0m \u001b[39mwith\u001b[39;00m imopen(uri, \u001b[39m\"\u001b[39;49m\u001b[39mwi\u001b[39;49m\u001b[39m\"\u001b[39;49m, \u001b[39m*\u001b[39;49m\u001b[39m*\u001b[39;49mimopen_args) \u001b[39mas\u001b[39;00m file:\n\u001b[1;32m    397\u001b[0m     \u001b[39mreturn\u001b[39;00m file\u001b[39m.\u001b[39mwrite(im, \u001b[39m*\u001b[39m\u001b[39m*\u001b[39mkwargs)\n",
      "File \u001b[0;32m~/anaconda3/envs/medical/lib/python3.9/site-packages/imageio/core/imopen.py:113\u001b[0m, in \u001b[0;36mimopen\u001b[0;34m(uri, io_mode, plugin, extension, format_hint, legacy_mode, **kwargs)\u001b[0m\n\u001b[1;32m    111\u001b[0m     request\u001b[39m.\u001b[39mformat_hint \u001b[39m=\u001b[39m format_hint\n\u001b[1;32m    112\u001b[0m \u001b[39melse\u001b[39;00m:\n\u001b[0;32m--> 113\u001b[0m     request \u001b[39m=\u001b[39m Request(uri, io_mode, format_hint\u001b[39m=\u001b[39;49mformat_hint, extension\u001b[39m=\u001b[39;49mextension)\n\u001b[1;32m    115\u001b[0m source \u001b[39m=\u001b[39m \u001b[39m\"\u001b[39m\u001b[39m<bytes>\u001b[39m\u001b[39m\"\u001b[39m \u001b[39mif\u001b[39;00m \u001b[39misinstance\u001b[39m(uri, \u001b[39mbytes\u001b[39m) \u001b[39melse\u001b[39;00m uri\n\u001b[1;32m    117\u001b[0m \u001b[39m# fast-path based on plugin\u001b[39;00m\n\u001b[1;32m    118\u001b[0m \u001b[39m# (except in legacy mode)\u001b[39;00m\n",
      "File \u001b[0;32m~/anaconda3/envs/medical/lib/python3.9/site-packages/imageio/core/request.py:247\u001b[0m, in \u001b[0;36mRequest.__init__\u001b[0;34m(self, uri, mode, extension, format_hint, **kwargs)\u001b[0m\n\u001b[1;32m    244\u001b[0m     \u001b[39mraise\u001b[39;00m \u001b[39mValueError\u001b[39;00m(\u001b[39mf\u001b[39m\u001b[39m\"\u001b[39m\u001b[39mInvalid Request.Mode: \u001b[39m\u001b[39m{\u001b[39;00mmode\u001b[39m}\u001b[39;00m\u001b[39m\"\u001b[39m)\n\u001b[1;32m    246\u001b[0m \u001b[39m# Parse what was given\u001b[39;00m\n\u001b[0;32m--> 247\u001b[0m \u001b[39mself\u001b[39;49m\u001b[39m.\u001b[39;49m_parse_uri(uri)\n\u001b[1;32m    249\u001b[0m \u001b[39m# Set extension\u001b[39;00m\n\u001b[1;32m    250\u001b[0m \u001b[39mif\u001b[39;00m extension \u001b[39mis\u001b[39;00m \u001b[39mnot\u001b[39;00m \u001b[39mNone\u001b[39;00m:\n",
      "File \u001b[0;32m~/anaconda3/envs/medical/lib/python3.9/site-packages/imageio/core/request.py:412\u001b[0m, in \u001b[0;36mRequest._parse_uri\u001b[0;34m(self, uri)\u001b[0m\n\u001b[1;32m    410\u001b[0m dn \u001b[39m=\u001b[39m os\u001b[39m.\u001b[39mpath\u001b[39m.\u001b[39mdirname(fn)\n\u001b[1;32m    411\u001b[0m \u001b[39mif\u001b[39;00m \u001b[39mnot\u001b[39;00m os\u001b[39m.\u001b[39mpath\u001b[39m.\u001b[39mexists(dn):\n\u001b[0;32m--> 412\u001b[0m     \u001b[39mraise\u001b[39;00m \u001b[39mFileNotFoundError\u001b[39;00m(\u001b[39m\"\u001b[39m\u001b[39mThe directory \u001b[39m\u001b[39m%r\u001b[39;00m\u001b[39m does not exist\u001b[39m\u001b[39m\"\u001b[39m \u001b[39m%\u001b[39m dn)\n",
      "\u001b[0;31mFileNotFoundError\u001b[0m: The directory '/data/cyl/code/smart_medical/Dataset/TestingSet/LungInfection-Test/Edge' does not exist"
     ]
    }
   ],
   "source": []
  },
  {
   "cell_type": "code",
   "execution_count": 12,
   "metadata": {},
   "outputs": [],
   "source": []
  },
  {
   "cell_type": "code",
   "execution_count": 27,
   "metadata": {},
   "outputs": [],
   "source": []
  },
  {
   "cell_type": "code",
   "execution_count": null,
   "metadata": {},
   "outputs": [],
   "source": []
  }
 ],
 "metadata": {
  "kernelspec": {
   "display_name": "medical",
   "language": "python",
   "name": "python3"
  },
  "language_info": {
   "codemirror_mode": {
    "name": "ipython",
    "version": 3
   },
   "file_extension": ".py",
   "mimetype": "text/x-python",
   "name": "python",
   "nbconvert_exporter": "python",
   "pygments_lexer": "ipython3",
   "version": "3.9.16"
  },
  "orig_nbformat": 4
 },
 "nbformat": 4,
 "nbformat_minor": 2
}
